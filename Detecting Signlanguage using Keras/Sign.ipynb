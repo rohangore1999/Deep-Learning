{
 "cells": [
  {
   "cell_type": "code",
   "execution_count": 1,
   "metadata": {},
   "outputs": [
    {
     "name": "stderr",
     "output_type": "stream",
     "text": [
      "Using TensorFlow backend.\n"
     ]
    }
   ],
   "source": [
    "# load in libaries\n",
    "import numpy as np # linear algebra\n",
    "import pandas as pd # data processing, CSV file I/O (e.g. pd.read_csv)\n",
    "from keras.models import Sequential\n",
    "from keras.layers import Dense, Activation, Dropout, Flatten, Input, Conv2D, MaxPooling2D, BatchNormalization\n",
    "from keras import optimizers\n",
    "from keras.preprocessing.image import ImageDataGenerator\n",
    "import matplotlib.pyplot as plt"
   ]
  },
  {
   "cell_type": "code",
   "execution_count": 2,
   "metadata": {},
   "outputs": [],
   "source": [
    "import tensorflow as tf"
   ]
  },
  {
   "cell_type": "code",
   "execution_count": 3,
   "metadata": {},
   "outputs": [],
   "source": [
    "X = np.load('X.npy')\n",
    "y = np.load('Y.npy')"
   ]
  },
  {
   "cell_type": "code",
   "execution_count": 4,
   "metadata": {},
   "outputs": [],
   "source": [
    "#split test and train\n",
    "from sklearn.model_selection import train_test_split\n",
    "\n",
    "Xtrain, Xtest, ytrain, ytest = train_test_split(X, y, test_size=0.2, random_state=8)"
   ]
  },
  {
   "cell_type": "code",
   "execution_count": 5,
   "metadata": {},
   "outputs": [
    {
     "data": {
      "text/plain": [
       "<matplotlib.image.AxesImage at 0x17e23a02d68>"
      ]
     },
     "execution_count": 5,
     "metadata": {},
     "output_type": "execute_result"
    },
    {
     "data": {
      "image/png": "[encoded data removed]",
      "text/plain": [
       "<Figure size 432x288 with 1 Axes>"
      ]
     },
     "metadata": {},
     "output_type": "display_data"
    }
   ],
   "source": [
    "plt.imshow(Xtrain[0], cmap=plt.cm.binary)"
   ]
  },
  {
   "cell_type": "code",
   "execution_count": 6,
   "metadata": {},
   "outputs": [
    {
     "data": {
      "text/plain": [
       "array([[0.5254902 , 0.5411765 , 0.5568628 , ..., 0.48235294, 0.47058824,\n",
       "        0.45882353],\n",
       "       [0.5372549 , 0.5529412 , 0.5686275 , ..., 0.49019608, 0.47843137,\n",
       "        0.46666667],\n",
       "       [0.5529412 , 0.5686275 , 0.5803922 , ..., 0.49803922, 0.4862745 ,\n",
       "        0.47058824],\n",
       "       ...,\n",
       "       [0.47058824, 0.47843137, 0.4862745 , ..., 0.40392157, 0.4       ,\n",
       "        0.39607844],\n",
       "       [0.4627451 , 0.47058824, 0.47843137, ..., 0.4       , 0.39215687,\n",
       "        0.3882353 ],\n",
       "       [0.45882353, 0.46666667, 0.47058824, ..., 0.39215687, 0.38431373,\n",
       "        0.38039216]], dtype=float32)"
      ]
     },
     "execution_count": 6,
     "metadata": {},
     "output_type": "execute_result"
    }
   ],
   "source": [
    "Xtrain[0]"
   ]
  },
  {
   "cell_type": "code",
   "execution_count": 7,
   "metadata": {},
   "outputs": [],
   "source": [
    "# Normalized the data\n",
    "Xtrain=tf.keras.utils.normalize(Xtrain, axis=1)\n",
    "Xtest=tf.keras.utils.normalize(Xtest, axis=1)"
   ]
  },
  {
   "cell_type": "code",
   "execution_count": 8,
   "metadata": {},
   "outputs": [
    {
     "data": {
      "text/plain": [
       "<matplotlib.image.AxesImage at 0x17e23aa4080>"
      ]
     },
     "execution_count": 8,
     "metadata": {},
     "output_type": "execute_result"
    },
    {
     "data": {
      "image/png": "[encoded data removed]",
      "text/plain": [
       "<Figure size 432x288 with 1 Axes>"
      ]
     },
     "metadata": {},
     "output_type": "display_data"
    }
   ],
   "source": [
    "plt.imshow(Xtrain[0], cmap=plt.cm.binary)"
   ]
  },
  {
   "cell_type": "code",
   "execution_count": 9,
   "metadata": {},
   "outputs": [
    {
     "data": {
      "text/plain": [
       "array([[0.10121904, 0.1017023 , 0.10225273, ..., 0.10739969, 0.10801522,\n",
       "        0.1085733 ],\n",
       "       [0.10348513, 0.10391322, 0.104413  , ..., 0.10914603, 0.10981548,\n",
       "        0.11042925],\n",
       "       [0.10650659, 0.10686111, 0.10657327, ..., 0.11089237, 0.11161573,\n",
       "        0.11135723],\n",
       "       ...,\n",
       "       [0.09064391, 0.08991072, 0.08929111, ..., 0.08993633, 0.09181295,\n",
       "        0.09372567],\n",
       "       [0.08913317, 0.08843677, 0.08785094, ..., 0.08906316, 0.09001269,\n",
       "        0.09186971],\n",
       "       [0.08837781, 0.0876998 , 0.08641075, ..., 0.08731683, 0.08821244,\n",
       "        0.09001376]], dtype=float32)"
      ]
     },
     "execution_count": 9,
     "metadata": {},
     "output_type": "execute_result"
    }
   ],
   "source": [
    "Xtrain[0]"
   ]
  },
  {
   "cell_type": "code",
   "execution_count": 10,
   "metadata": {},
   "outputs": [
    {
     "data": {
      "text/plain": [
       "(1649, 64, 64)"
      ]
     },
     "execution_count": 10,
     "metadata": {},
     "output_type": "execute_result"
    }
   ],
   "source": [
    "Xtrain.shape"
   ]
  },
  {
   "cell_type": "markdown",
   "metadata": {},
   "source": [
    "# Building the Model"
   ]
  },
  {
   "cell_type": "code",
   "execution_count": 17,
   "metadata": {},
   "outputs": [
    {
     "name": "stdout",
     "output_type": "stream",
     "text": [
      "Epoch 1/30\n",
      "1649/1649 [==============================] - 1s 807us/step - loss: 2.3183 - acc: 0.1110\n",
      "Epoch 2/30\n",
      "1649/1649 [==============================] - 1s 639us/step - loss: 2.2891 - acc: 0.1249\n",
      "Epoch 3/30\n",
      "1649/1649 [==============================] - 1s 591us/step - loss: 2.2148 - acc: 0.1886\n",
      "Epoch 4/30\n",
      "1649/1649 [==============================] - 1s 417us/step - loss: 2.0964 - acc: 0.2680\n",
      "Epoch 5/30\n",
      "1649/1649 [==============================] - 1s 449us/step - loss: 1.9011 - acc: 0.3560\n",
      "Epoch 6/30\n",
      "1649/1649 [==============================] - 1s 451us/step - loss: 1.7309 - acc: 0.4069\n",
      "Epoch 7/30\n",
      "1649/1649 [==============================] - 1s 463us/step - loss: 1.5716 - acc: 0.4603\n",
      "Epoch 8/30\n",
      "1649/1649 [==============================] - 1s 460us/step - loss: 1.4875 - acc: 0.4973\n",
      "Epoch 9/30\n",
      "1649/1649 [==============================] - 1s 456us/step - loss: 1.3770 - acc: 0.5385\n",
      "Epoch 10/30\n",
      "1649/1649 [==============================] - 1s 456us/step - loss: 1.3074 - acc: 0.5482\n",
      "Epoch 11/30\n",
      "1649/1649 [==============================] - 1s 459us/step - loss: 1.2842 - acc: 0.5458\n",
      "Epoch 12/30\n",
      "1649/1649 [==============================] - 1s 457us/step - loss: 1.2264 - acc: 0.5616\n",
      "Epoch 13/30\n",
      "1649/1649 [==============================] - 1s 487us/step - loss: 1.1236 - acc: 0.6319\n",
      "Epoch 14/30\n",
      "1649/1649 [==============================] - ETA: 0s - loss: 1.0864 - acc: 0.642 - 1s 462us/step - loss: 1.0904 - acc: 0.6416\n",
      "Epoch 15/30\n",
      "1649/1649 [==============================] - 1s 478us/step - loss: 1.0330 - acc: 0.6628\n",
      "Epoch 16/30\n",
      "1649/1649 [==============================] - 1s 461us/step - loss: 1.0218 - acc: 0.6616\n",
      "Epoch 17/30\n",
      "1649/1649 [==============================] - 1s 449us/step - loss: 0.9986 - acc: 0.6792\n",
      "Epoch 18/30\n",
      "1649/1649 [==============================] - 1s 455us/step - loss: 0.9710 - acc: 0.6871\n",
      "Epoch 19/30\n",
      "1649/1649 [==============================] - 1s 461us/step - loss: 0.9381 - acc: 0.6925\n",
      "Epoch 20/30\n",
      "1649/1649 [==============================] - 1s 451us/step - loss: 0.9244 - acc: 0.6919\n",
      "Epoch 21/30\n",
      "1649/1649 [==============================] - 1s 450us/step - loss: 0.8775 - acc: 0.7168\n",
      "Epoch 22/30\n",
      "1649/1649 [==============================] - 1s 462us/step - loss: 0.8897 - acc: 0.7156\n",
      "Epoch 23/30\n",
      "1649/1649 [==============================] - 1s 469us/step - loss: 0.8047 - acc: 0.7441\n",
      "Epoch 24/30\n",
      "1649/1649 [==============================] - 1s 461us/step - loss: 0.8516 - acc: 0.7210 0s - loss: 0.8577 - acc: 0.71\n",
      "Epoch 25/30\n",
      "1649/1649 [==============================] - 1s 473us/step - loss: 0.8510 - acc: 0.7216\n",
      "Epoch 26/30\n",
      "1649/1649 [==============================] - 1s 468us/step - loss: 0.8117 - acc: 0.7392\n",
      "Epoch 27/30\n",
      "1649/1649 [==============================] - 1s 457us/step - loss: 0.7459 - acc: 0.7562\n",
      "Epoch 28/30\n",
      "1649/1649 [==============================] - 1s 454us/step - loss: 0.8057 - acc: 0.7398\n",
      "Epoch 29/30\n",
      "1649/1649 [==============================] - 1s 454us/step - loss: 0.7062 - acc: 0.7811\n",
      "Epoch 30/30\n",
      "1649/1649 [==============================] - 1s 484us/step - loss: 0.7424 - acc: 0.7520\n"
     ]
    },
    {
     "data": {
      "text/plain": [
       "<tensorflow.python.keras._impl.keras.callbacks.History at 0x17efffb0048>"
      ]
     },
     "execution_count": 17,
     "metadata": {},
     "output_type": "execute_result"
    }
   ],
   "source": [
    "model=tf.keras.models.Sequential() # we use Sequential model\n",
    "# 1st layer is Input Layer \n",
    "# as our data is 28x28 we have to flatern that data\n",
    "# we can flattern by using reshape, numpy or there is builtin layer in keras.\n",
    "model.add(tf.keras.layers.Flatten(input_shape=(64, 64))) # Xtrain.shape (1649, 64, 64).\n",
    "# 1 Hidden layer\n",
    "model.add(tf.keras.layers.Dense(128, activation=tf.nn.relu)) # Dense(how many units in layer=(128) neuron in network,activation=relu (it is default function ))\n",
    "# 2 Hidden layer\n",
    "model.add(tf.keras.layers.Dense(128, activation=tf.nn.relu))\n",
    "# output layer\n",
    "model.add(tf.keras.layers.Dense(10, activation=tf.nn.softmax)) # It is classification problem so we use 10 layers (0-9), it is probability distribution=softmax\n",
    "\n",
    "model.compile(optimizer='adam',\n",
    "             loss='categorical_crossentropy',#when using the categorical_crossentropy loss, your targets should be in categorical format (e.g. if you have 10 classes, the target for each sample should be a 10-dimensional vector that is all-zeros except for a 1 at the index corresponding to the class of the sample).\n",
    "             metrics=['accuracy'])\n",
    "# adam is general optimizer.\n",
    "# note : A neural network is not tries to maximized accuracy it tries to minimized the loss\n",
    "model.fit(Xtrain, ytrain, epochs=30)\n",
    "# If you just train on 1 epoch, then the neural network saw each unique sample once. 3 epochs means it passed over your data set 3 times."
   ]
  },
  {
   "cell_type": "code",
   "execution_count": 18,
   "metadata": {},
   "outputs": [
    {
     "name": "stdout",
     "output_type": "stream",
     "text": [
      "413/413 [==============================] - 0s 1ms/step\n",
      "0.8693683046405598 0.7433414036367476\n"
     ]
    }
   ],
   "source": [
    "val_loss, val_accuracy=model.evaluate(Xtest,ytest)\n",
    "print(val_loss, val_accuracy)"
   ]
  },
  {
   "cell_type": "markdown",
   "metadata": {},
   "source": [
    "# Saving Model"
   ]
  },
  {
   "cell_type": "code",
   "execution_count": 19,
   "metadata": {},
   "outputs": [],
   "source": [
    "model.save('sign_reader.model')"
   ]
  },
  {
   "cell_type": "code",
   "execution_count": 20,
   "metadata": {},
   "outputs": [],
   "source": [
    "new_model=tf.keras.models.load_model('sign_reader.model')"
   ]
  },
  {
   "cell_type": "code",
   "execution_count": 21,
   "metadata": {},
   "outputs": [],
   "source": [
    "prediction=new_model.predict([Xtest]) # prediction always take a list"
   ]
  },
  {
   "cell_type": "code",
   "execution_count": 22,
   "metadata": {},
   "outputs": [
    {
     "data": {
      "text/plain": [
       "array([[5.5060886e-05, 9.6794999e-01, 1.2141425e-03, ..., 9.5805372e-06,\n",
       "        4.2717988e-05, 1.0789676e-04],\n",
       "       [1.2228049e-05, 1.9454287e-03, 5.5759639e-02, ..., 1.9613993e-03,\n",
       "        3.7791319e-02, 1.5929237e-06],\n",
       "       [8.1633262e-02, 1.9030771e-01, 2.4288414e-02, ..., 6.7320914e-05,\n",
       "        3.3459641e-05, 5.0833779e-03],\n",
       "       ...,\n",
       "       [6.0578977e-04, 1.5473551e-01, 1.6754091e-01, ..., 6.6132769e-02,\n",
       "        7.8118190e-02, 2.0390239e-03],\n",
       "       [3.3220192e-04, 1.4770661e-01, 8.0261871e-02, ..., 1.1929486e-04,\n",
       "        4.7968463e-03, 8.4196904e-04],\n",
       "       [3.4355442e-04, 3.1786583e-02, 1.6733178e-01, ..., 5.0811325e-03,\n",
       "        1.4409292e-01, 4.2838580e-03]], dtype=float32)"
      ]
     },
     "execution_count": 22,
     "metadata": {},
     "output_type": "execute_result"
    }
   ],
   "source": [
    "prediction"
   ]
  },
  {
   "cell_type": "code",
   "execution_count": 23,
   "metadata": {},
   "outputs": [],
   "source": [
    "import numpy as np"
   ]
  },
  {
   "cell_type": "code",
   "execution_count": 24,
   "metadata": {},
   "outputs": [
    {
     "data": {
      "text/plain": [
       "array([5.5060886e-05, 9.6794999e-01, 1.2141425e-03, 2.8845703e-03,\n",
       "       1.2916494e-06, 3.4657500e-03, 2.4269089e-02, 9.5805372e-06,\n",
       "       4.2717988e-05, 1.0789676e-04], dtype=float32)"
      ]
     },
     "execution_count": 24,
     "metadata": {},
     "output_type": "execute_result"
    }
   ],
   "source": [
    "prediction[0]"
   ]
  },
  {
   "cell_type": "code",
   "execution_count": 36,
   "metadata": {},
   "outputs": [
    {
     "name": "stdout",
     "output_type": "stream",
     "text": [
      "7\n"
     ]
    }
   ],
   "source": [
    "print(np.argmax(prediction[5])) # Returns the indices of the maximum values along an axis."
   ]
  },
  {
   "cell_type": "code",
   "execution_count": 37,
   "metadata": {},
   "outputs": [
    {
     "data": {
      "image/png": "[encoded data removed]",
      "text/plain": [
       "<Figure size 432x288 with 1 Axes>"
      ]
     },
     "metadata": {},
     "output_type": "display_data"
    }
   ],
   "source": [
    "plt.imshow(Xtest[3])\n",
    "plt.show()"
   ]
  },
  {
   "cell_type": "code",
   "execution_count": null,
   "metadata": {},
   "outputs": [],
   "source": []
  }
 ],
 "metadata": {
  "kernelspec": {
   "display_name": "Python 3",
   "language": "python",
   "name": "python3"
  },
  "language_info": {
   "codemirror_mode": {
    "name": "ipython",
    "version": 3
   },
   "file_extension": ".py",
   "mimetype": "text/x-python",
   "name": "python",
   "nbconvert_exporter": "python",
   "pygments_lexer": "ipython3",
   "version": "3.6.5"
  }
 },
 "nbformat": 4,
 "nbformat_minor": 2
}
